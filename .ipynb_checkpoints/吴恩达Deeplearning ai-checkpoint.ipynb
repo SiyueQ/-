{
 "cells": [
  {
   "cell_type": "markdown",
   "id": "3d13a30f",
   "metadata": {},
   "source": [
    "# "
   ]
  },
  {
   "cell_type": "markdown",
   "id": "fcb7a39a",
   "metadata": {},
   "source": [
    "## 什么是神经网络"
   ]
  },
  {
   "cell_type": "markdown",
   "id": "a544d766",
   "metadata": {},
   "source": [
    "ReLU: rectified linear unit线性修正单元，例如房价预测线性模型，不可能低于0，故在小于某个数时，取常数值；简单的神经网络里的每个节点，可以看作输入经过某一种ReLU变换\n",
    "\n",
    "<img src='.\\Image\\吴恩达Deeplearning\\简单神经网络.png' width=500>\n",
    "\n",
    "其中的每个节点可能有其实际含义，但神经网络并不关心，它会自动计算输入层和输出层中的隐藏层的参数"
   ]
  },
  {
   "cell_type": "markdown",
   "id": "b2c5a458",
   "metadata": {},
   "source": [
    "# 用神经网络进行监督学习"
   ]
  },
  {
   "cell_type": "markdown",
   "id": "9df047e8",
   "metadata": {},
   "source": [
    "常用神经网络：\n",
    "+ 标准神经网络：Standard NN\n",
    "+ 卷积神经网络CNN：通常用于图像处理，Convolution Neural Network\n",
    "+ 循环神经网络RNN：通常用于序列数据，例如语音——随着时间序列变化，语音——一个个单词序列，Recurrent Neural Network\n",
    "\n",
    "<img src='.\\Image\\吴恩达Deeplearning\\神经网络种类.png' width=500>\n",
    "\n",
    "数据的表示：\n",
    "+ 结构化数据：表、数据库\n",
    " + 房价预测——地理位置，周边设施……\n",
    " + 广告推荐——用户年龄，浏览偏好……\n",
    "+ 非结构化数据：图像、音频"
   ]
  }
 ],
 "metadata": {
  "kernelspec": {
   "display_name": "Python [conda env:pytorch_cpu]",
   "language": "python",
   "name": "conda-env-pytorch_cpu-py"
  },
  "language_info": {
   "codemirror_mode": {
    "name": "ipython",
    "version": 3
   },
   "file_extension": ".py",
   "mimetype": "text/x-python",
   "name": "python",
   "nbconvert_exporter": "python",
   "pygments_lexer": "ipython3",
   "version": "3.8.16"
  },
  "toc": {
   "base_numbering": 1,
   "nav_menu": {},
   "number_sections": true,
   "sideBar": true,
   "skip_h1_title": false,
   "title_cell": "Table of Contents",
   "title_sidebar": "Contents",
   "toc_cell": false,
   "toc_position": {},
   "toc_section_display": true,
   "toc_window_display": false
  },
  "varInspector": {
   "cols": {
    "lenName": 16,
    "lenType": 16,
    "lenVar": 40
   },
   "kernels_config": {
    "python": {
     "delete_cmd_postfix": "",
     "delete_cmd_prefix": "del ",
     "library": "var_list.py",
     "varRefreshCmd": "print(var_dic_list())"
    },
    "r": {
     "delete_cmd_postfix": ") ",
     "delete_cmd_prefix": "rm(",
     "library": "var_list.r",
     "varRefreshCmd": "cat(var_dic_list()) "
    }
   },
   "types_to_exclude": [
    "module",
    "function",
    "builtin_function_or_method",
    "instance",
    "_Feature"
   ],
   "window_display": false
  }
 },
 "nbformat": 4,
 "nbformat_minor": 5
}
