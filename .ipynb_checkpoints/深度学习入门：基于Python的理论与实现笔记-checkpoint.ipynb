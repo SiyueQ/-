{
 "cells": [
  {
   "cell_type": "markdown",
   "id": "ae00802d",
   "metadata": {},
   "source": [
    "# 感知机"
   ]
  },
  {
   "cell_type": "markdown",
   "id": "b4bb0856",
   "metadata": {},
   "source": [
    "<img src=\"./Image/深度学习入门：基于Python的理论与实现/感知机1.png\" width=200 heigth=200 align='right'>\n",
    "感知机由多个输入，一个输出构成，左侧的输入为0或1，当输入权值和到达一定值$\\theta$时，右端则会输出1\n",
    "\n",
    "$\n",
    "y = \n",
    "\\begin{cases}\n",
    "0\\quad (w_1x_1+w_2x_2 \\le \\theta) \\\\\n",
    "1\\quad (w_1x_1+w_2x_2 < \\theta)\n",
    "\\end{cases}\n",
    "$\n",
    "\n",
    "下面的表达和上式等价，\n",
    "$\n",
    "y = \n",
    "\\begin{cases}\n",
    "0\\quad (b+w_1x_1+w_2x_2 \\le 0) \\\\\n",
    "1\\quad (b+w_1x_1+w_2x_2 < 0)\n",
    "\\end{cases}\n",
    "$,\n",
    "其中b称为**偏置**，取负值，$w_1$和$w_2$为**权重**\n",
    "\n",
    "使用感知机能很轻易地实现与（非）门、或（非）门"
   ]
  },
  {
   "cell_type": "code",
   "execution_count": 27,
   "id": "59d59d31",
   "metadata": {},
   "outputs": [
    {
     "name": "stdout",
     "output_type": "stream",
     "text": [
      "1 0\n",
      "1 1\n",
      "0 1 1\n"
     ]
    }
   ],
   "source": [
    "def LogicGate(b, *wargs):\n",
    "    def func(*xargs):\n",
    "        x = np.array(xargs)\n",
    "        w = np.array(wargs)\n",
    "        tmp = np.sum(w * x) + b\n",
    "        if tmp <= 0:\n",
    "            return 0\n",
    "        else:\n",
    "            return 1\n",
    "\n",
    "    return func\n",
    "\n",
    "\n",
    "#与门\n",
    "AND = LogicGate(-0.99, 0.5, 0.5)\n",
    "print(AND(1, 1), AND(1, 0))\n",
    "#与非门\n",
    "NAND = LogicGate(0.99, -0.5, -0.5)\n",
    "print(NAND(0, 0), NAND(0, 1))\n",
    "#或门\n",
    "OR = LogicGate(-0.49, 0.5, 0.5)\n",
    "print(OR(0, 0), OR(0, 1), OR(1, 1))"
   ]
  },
  {
   "cell_type": "markdown",
   "id": "78c38385",
   "metadata": {},
   "source": [
    "<img src=\"./Image/深度学习入门：基于Python的理论与实现/感知机2.png\" width=200 align='right'>\n",
    "然而，感知机无法实现异或门，感知机实际上就是一个线性规划：无法通过一条直线将$(0,0)$和$(1,1)$划分到同一区域，而把$(0,1)$和$(1,0)$划分到另一区域；\n",
    "但是，可以通过<b>多层感知机</b>，将门电路叠加实现异或，一个门不接受$(0,0)$的输入——或门，一个门不接受$(1,1)$的输入——与非门，将这两个门的结果通过一个与门，即可实现不接受$(1,1)/(0,0)$而接受$(1,0)$的输入：\n",
    "<img src=\"./Image/深度学习入门：基于Python的理论与实现/感知机3.png\" width=350>"
   ]
  },
  {
   "cell_type": "code",
   "execution_count": 28,
   "id": "f5430ee9",
   "metadata": {},
   "outputs": [
    {
     "name": "stdout",
     "output_type": "stream",
     "text": [
      "1 0 0\n"
     ]
    }
   ],
   "source": [
    "def XOR(x1, x2):\n",
    "    s1 = NAND(x1, x2)\n",
    "    s2 = OR(x1, x2)\n",
    "    y = AND(s1, s2)\n",
    "    return y\n",
    "print(XOR(0,1),XOR(0,0),XOR(1,1))"
   ]
  },
  {
   "cell_type": "markdown",
   "id": "f0ff3a9a",
   "metadata": {},
   "source": [
    "# 神经网络"
   ]
  },
  {
   "cell_type": "markdown",
   "id": "086cf0c4",
   "metadata": {},
   "source": [
    "## 激活函数 "
   ]
  }
 ],
 "metadata": {
  "kernelspec": {
   "display_name": "Python 3 (ipykernel)",
   "language": "python",
   "name": "python3"
  },
  "language_info": {
   "codemirror_mode": {
    "name": "ipython",
    "version": 3
   },
   "file_extension": ".py",
   "mimetype": "text/x-python",
   "name": "python",
   "nbconvert_exporter": "python",
   "pygments_lexer": "ipython3",
   "version": "3.9.13"
  },
  "toc": {
   "base_numbering": 1,
   "nav_menu": {},
   "number_sections": true,
   "sideBar": true,
   "skip_h1_title": false,
   "title_cell": "Table of Contents",
   "title_sidebar": "Contents",
   "toc_cell": false,
   "toc_position": {},
   "toc_section_display": true,
   "toc_window_display": false
  },
  "varInspector": {
   "cols": {
    "lenName": 16,
    "lenType": 16,
    "lenVar": 40
   },
   "kernels_config": {
    "python": {
     "delete_cmd_postfix": "",
     "delete_cmd_prefix": "del ",
     "library": "var_list.py",
     "varRefreshCmd": "print(var_dic_list())"
    },
    "r": {
     "delete_cmd_postfix": ") ",
     "delete_cmd_prefix": "rm(",
     "library": "var_list.r",
     "varRefreshCmd": "cat(var_dic_list()) "
    }
   },
   "types_to_exclude": [
    "module",
    "function",
    "builtin_function_or_method",
    "instance",
    "_Feature"
   ],
   "window_display": false
  }
 },
 "nbformat": 4,
 "nbformat_minor": 5
}
