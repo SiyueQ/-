{
 "cells": [
  {
   "cell_type": "markdown",
   "id": "0b303fd4",
   "metadata": {},
   "source": [
    "# 线性代数"
   ]
  },
  {
   "cell_type": "markdown",
   "id": "f423df44",
   "metadata": {},
   "source": [
    "torch的len函数返回的是第0维的长度，numel返回的是元素数量"
   ]
  },
  {
   "cell_type": "code",
   "execution_count": 23,
   "id": "9e9c5e1a",
   "metadata": {
    "ExecuteTime": {
     "end_time": "2023-04-18T06:50:39.374188Z",
     "start_time": "2023-04-18T06:50:39.359478Z"
    }
   },
   "outputs": [
    {
     "data": {
      "text/plain": [
       "(5, 20)"
      ]
     },
     "execution_count": 23,
     "metadata": {},
     "output_type": "execute_result"
    }
   ],
   "source": [
    "import torch\n",
    "A = torch.arange(20).reshape(5, 4)\n",
    "len(A), A.numel()"
   ]
  },
  {
   "cell_type": "markdown",
   "id": "a33748a2",
   "metadata": {},
   "source": [
    "可以用sum对所有元素求和，也可以用axis指定沿着一维度求和，cumsum沿着某一维度做累加"
   ]
  },
  {
   "cell_type": "code",
   "execution_count": 22,
   "id": "3f8c7244",
   "metadata": {
    "ExecuteTime": {
     "end_time": "2023-04-17T07:47:38.417040Z",
     "start_time": "2023-04-17T07:47:38.387959Z"
    }
   },
   "outputs": [
    {
     "data": {
      "text/plain": [
       "(tensor([[ 0,  1,  2,  3],\n",
       "         [ 4,  5,  6,  7],\n",
       "         [ 8,  9, 10, 11],\n",
       "         [12, 13, 14, 15],\n",
       "         [16, 17, 18, 19]]),\n",
       " tensor(190),\n",
       " tensor([40, 45, 50, 55]),\n",
       " tensor([ 6, 22, 38, 54, 70]),\n",
       " tensor([[ 0,  1,  3,  6],\n",
       "         [ 4,  9, 15, 22],\n",
       "         [ 8, 17, 27, 38],\n",
       "         [12, 25, 39, 54],\n",
       "         [16, 33, 51, 70]]))"
      ]
     },
     "execution_count": 22,
     "metadata": {},
     "output_type": "execute_result"
    }
   ],
   "source": [
    "A, A.sum(), A.sum(axis=0), A.sum(axis=1), A.cumsum(axis = 1)"
   ]
  },
  {
   "cell_type": "markdown",
   "id": "111730fa",
   "metadata": {},
   "source": [
    "shape=(2,2,5)按第0维求和，即将两个(2,5)的矩阵求和"
   ]
  },
  {
   "cell_type": "code",
   "execution_count": 18,
   "id": "82dda218",
   "metadata": {
    "ExecuteTime": {
     "end_time": "2023-04-17T07:44:38.831804Z",
     "start_time": "2023-04-17T07:44:38.815794Z"
    }
   },
   "outputs": [
    {
     "data": {
      "text/plain": [
       "(tensor([[[ 0,  1,  2,  3,  4],\n",
       "          [ 5,  6,  7,  8,  9]],\n",
       " \n",
       "         [[10, 11, 12, 13, 14],\n",
       "          [15, 16, 17, 18, 19]]]),\n",
       " tensor(190),\n",
       " tensor([[10, 35],\n",
       "         [60, 85]]),\n",
       " tensor([[[ 5,  7,  9, 11, 13]],\n",
       " \n",
       "         [[25, 27, 29, 31, 33]]]),\n",
       " tensor([[[0.0000, 0.1429, 0.2222, 0.2727, 0.3077],\n",
       "          [1.0000, 0.8571, 0.7778, 0.7273, 0.6923]],\n",
       " \n",
       "         [[0.4000, 0.4074, 0.4138, 0.4194, 0.4242],\n",
       "          [0.6000, 0.5926, 0.5862, 0.5806, 0.5758]]]))"
      ]
     },
     "execution_count": 18,
     "metadata": {},
     "output_type": "execute_result"
    }
   ],
   "source": [
    "A = A.reshape(2,2,5)\n",
    "A, A.sum(), A.sum(axis=2), A.sum(axis=1, keepdims = True), A/A.sum(axis=1, keepdims = True)"
   ]
  },
  {
   "cell_type": "markdown",
   "id": "15ea2408",
   "metadata": {},
   "source": [
    "# 自动求导 "
   ]
  },
  {
   "cell_type": "code",
   "execution_count": 29,
   "id": "0c390f66",
   "metadata": {
    "ExecuteTime": {
     "end_time": "2023-04-18T06:53:44.780051Z",
     "start_time": "2023-04-18T06:53:44.761780Z"
    }
   },
   "outputs": [
    {
     "data": {
      "text/plain": [
       "tensor([0., 1., 2., 3.], dtype=torch.float64, requires_grad=True)"
      ]
     },
     "execution_count": 29,
     "metadata": {},
     "output_type": "execute_result"
    }
   ],
   "source": [
    "x = torch.arange(4.0, dtype = float, requires_grad = True)\n",
    "x"
   ]
  },
  {
   "cell_type": "markdown",
   "id": "31b5595a",
   "metadata": {},
   "source": [
    "torch.dot函数对向量x求内积，使用grad.zero_()对之前求得的梯度清零，否则会累积"
   ]
  },
  {
   "cell_type": "code",
   "execution_count": 71,
   "id": "5e9f72b7",
   "metadata": {
    "ExecuteTime": {
     "end_time": "2023-04-18T07:13:47.591939Z",
     "start_time": "2023-04-18T07:13:47.572182Z"
    }
   },
   "outputs": [
    {
     "data": {
      "text/plain": [
       "tensor(28., dtype=torch.float64, grad_fn=<MulBackward0>)"
      ]
     },
     "execution_count": 71,
     "metadata": {},
     "output_type": "execute_result"
    }
   ],
   "source": [
    "x.grad.zero_()\n",
    "y = 2 * torch.dot(x, x)\n",
    "y"
   ]
  },
  {
   "cell_type": "markdown",
   "id": "c0ecfdf2",
   "metadata": {},
   "source": [
    "反向传播可以计算出y对$\\vec x$每一个分量的梯度，并把结果储存在$\\vec x$的grad成员里"
   ]
  },
  {
   "cell_type": "code",
   "execution_count": 72,
   "id": "32c2d655",
   "metadata": {
    "ExecuteTime": {
     "end_time": "2023-04-18T07:13:49.758347Z",
     "start_time": "2023-04-18T07:13:49.738973Z"
    }
   },
   "outputs": [
    {
     "data": {
      "text/plain": [
       "(tensor([ 0.,  4.,  8., 12.], dtype=torch.float64),\n",
       " tensor([True, True, True, True]))"
      ]
     },
     "execution_count": 72,
     "metadata": {},
     "output_type": "execute_result"
    }
   ],
   "source": [
    "y.backward()\n",
    "x.grad, x.grad == 4 * x"
   ]
  },
  {
   "cell_type": "markdown",
   "id": "df8f5176",
   "metadata": {},
   "source": [
    "向量对向量求导要指定求导的维度，或者将向量求和(sum)，用标量求导"
   ]
  },
  {
   "cell_type": "code",
   "execution_count": 59,
   "id": "e6779cc1",
   "metadata": {
    "ExecuteTime": {
     "end_time": "2023-04-18T07:06:08.829958Z",
     "start_time": "2023-04-18T07:06:08.809936Z"
    }
   },
   "outputs": [
    {
     "data": {
      "text/plain": [
       "(tensor([20., 20.], dtype=torch.float64), tensor([10., 10.]))"
      ]
     },
     "execution_count": 59,
     "metadata": {},
     "output_type": "execute_result"
    }
   ],
   "source": [
    "a = torch.tensor([10., 10.], dtype = float, requires_grad = True)\n",
    "b = torch.tensor([20., 20.], requires_grad = True)\n",
    "\n",
    "F = a * b\n",
    "F.backward(torch.tensor([1.0, 1.0]))\n",
    "\n",
    "a.grad, b.grad"
   ]
  }
 ],
 "metadata": {
  "kernelspec": {
   "display_name": "Python [conda env:pytorch_cpu]",
   "language": "python",
   "name": "conda-env-pytorch_cpu-py"
  },
  "language_info": {
   "codemirror_mode": {
    "name": "ipython",
    "version": 3
   },
   "file_extension": ".py",
   "mimetype": "text/x-python",
   "name": "python",
   "nbconvert_exporter": "python",
   "pygments_lexer": "ipython3",
   "version": "3.8.16"
  },
  "toc": {
   "base_numbering": 1,
   "nav_menu": {},
   "number_sections": true,
   "sideBar": true,
   "skip_h1_title": false,
   "title_cell": "Table of Contents",
   "title_sidebar": "Contents",
   "toc_cell": false,
   "toc_position": {},
   "toc_section_display": true,
   "toc_window_display": false
  },
  "varInspector": {
   "cols": {
    "lenName": 16,
    "lenType": 16,
    "lenVar": 40
   },
   "kernels_config": {
    "python": {
     "delete_cmd_postfix": "",
     "delete_cmd_prefix": "del ",
     "library": "var_list.py",
     "varRefreshCmd": "print(var_dic_list())"
    },
    "r": {
     "delete_cmd_postfix": ") ",
     "delete_cmd_prefix": "rm(",
     "library": "var_list.r",
     "varRefreshCmd": "cat(var_dic_list()) "
    }
   },
   "types_to_exclude": [
    "module",
    "function",
    "builtin_function_or_method",
    "instance",
    "_Feature"
   ],
   "window_display": false
  }
 },
 "nbformat": 4,
 "nbformat_minor": 5
}
