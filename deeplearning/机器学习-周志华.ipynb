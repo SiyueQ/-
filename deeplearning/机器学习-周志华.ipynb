{
 "cells": [
  {
   "cell_type": "markdown",
   "id": "a46590b0",
   "metadata": {},
   "source": [
    "# 模型评估与选择"
   ]
  },
  {
   "cell_type": "markdown",
   "id": "438f8331",
   "metadata": {},
   "source": [
    "## 过拟合和欠拟合：\n",
    "+ 过拟合：将\"非泛化\"的特征进行学习，例如树叶的锯齿当做树叶的特征，使得模型的泛化性较差\n",
    "+ 欠拟合：一些决定性的因素被忽略掉，使得模型的泛化性过强，将其它的结果识别为正确结果\n",
    "<img src = './Image/周志华_机器学习/过拟合_欠拟合.png' width = 500>\n",
    "\n",
    "## 数据集拆分方法：\n",
    "+ 留出法：\n",
    "+ k折交叉检验法：\n",
    "+ 留一法：\n",
    "+ 自助法\n",
    "\n",
    "## 查准率和查全率与$F_\\beta$:\n",
    "+ 查准率: $P=\\frac{TP}{TP+FP}$\n",
    "+ 查全率: $R=\\frac{TP}{TP+FN}$\n",
    "\n",
    "<img src = './Image/周志华_机器学习/混淆矩阵.png' width = 300>\n",
    "\n",
    "对于P和R而言，一般情况下，P越高R就越低，因为P越高，代表\"正确\"的限制条件就越强，这样一些本来为真的会被判定为假(假反例)，查全率低；而如果\"正确\"的限制条件弱，大多数正确的都会被找到，查全率高，但是一些错误的也会被判断为真(假真例)，查准率低"
   ]
  },
  {
   "cell_type": "code",
   "execution_count": null,
   "id": "bd5b16d9",
   "metadata": {},
   "outputs": [],
   "source": []
  }
 ],
 "metadata": {
  "kernelspec": {
   "display_name": "Python 3 (ipykernel)",
   "language": "python",
   "name": "python3"
  },
  "language_info": {
   "codemirror_mode": {
    "name": "ipython",
    "version": 3
   },
   "file_extension": ".py",
   "mimetype": "text/x-python",
   "name": "python",
   "nbconvert_exporter": "python",
   "pygments_lexer": "ipython3",
   "version": "3.9.13"
  },
  "toc": {
   "base_numbering": 1,
   "nav_menu": {},
   "number_sections": true,
   "sideBar": true,
   "skip_h1_title": false,
   "title_cell": "Table of Contents",
   "title_sidebar": "Contents",
   "toc_cell": false,
   "toc_position": {},
   "toc_section_display": true,
   "toc_window_display": false
  },
  "varInspector": {
   "cols": {
    "lenName": 16,
    "lenType": 16,
    "lenVar": 40
   },
   "kernels_config": {
    "python": {
     "delete_cmd_postfix": "",
     "delete_cmd_prefix": "del ",
     "library": "var_list.py",
     "varRefreshCmd": "print(var_dic_list())"
    },
    "r": {
     "delete_cmd_postfix": ") ",
     "delete_cmd_prefix": "rm(",
     "library": "var_list.r",
     "varRefreshCmd": "cat(var_dic_list()) "
    }
   },
   "types_to_exclude": [
    "module",
    "function",
    "builtin_function_or_method",
    "instance",
    "_Feature"
   ],
   "window_display": false
  }
 },
 "nbformat": 4,
 "nbformat_minor": 5
}
