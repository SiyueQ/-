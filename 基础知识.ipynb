{
 "cells": [
  {
   "cell_type": "code",
   "execution_count": null,
   "id": "873a3661",
   "metadata": {},
   "outputs": [],
   "source": [
    "print('helloworld')"
   ]
  },
  {
   "cell_type": "markdown",
   "id": "e6192705",
   "metadata": {},
   "source": [
    "# Python基础 "
   ]
  },
  {
   "cell_type": "markdown",
   "id": "c1df44b8",
   "metadata": {},
   "source": [
    "## Numpy"
   ]
  },
  {
   "cell_type": "markdown",
   "id": "6b38c6fb",
   "metadata": {},
   "source": [
    "### np创建一维矩阵和二维矩阵"
   ]
  },
  {
   "cell_type": "markdown",
   "id": "2a982b78",
   "metadata": {},
   "source": [
    "1.1.1.1 数组间的加减法要对应元素个数相同，也可以和常数进行运算"
   ]
  },
  {
   "cell_type": "code",
   "execution_count": null,
   "id": "49771bc1",
   "metadata": {
    "cell_style": "center",
    "scrolled": true
   },
   "outputs": [],
   "source": [
    "x = np.array([1.0, 2.0, 3.0])\n",
    "y = np.array([2.0, 4.0, 6.0])\n",
    "print(x + y)\n",
    "print(x - y)\n",
    "print(x / y)\n",
    "print(x * y)\n",
    "print(x / 2)"
   ]
  },
  {
   "cell_type": "markdown",
   "id": "50f3a0d9",
   "metadata": {
    "cell_style": "center"
   },
   "source": [
    "1.1.1.2 多维矩阵，加减乘除进行的也是在对应位置上进行"
   ]
  },
  {
   "cell_type": "code",
   "execution_count": null,
   "id": "be1e2a63",
   "metadata": {
    "cell_style": "center"
   },
   "outputs": [],
   "source": [
    "A = np.array([[1, 2], [3, 4]])\n",
    "B = np.array([[3, 0], [0, 6]])\n",
    "print(A + B)\n",
    "print(A * B)"
   ]
  },
  {
   "cell_type": "markdown",
   "id": "4670bf43",
   "metadata": {},
   "source": [
    "### 广播"
   ]
  },
  {
   "cell_type": "markdown",
   "id": "b4a30f86",
   "metadata": {},
   "source": [
    "1.1.2.1 广播允许低维的矩阵和高维的矩阵进行运算，例如`A(m,n)`和`B(m)`，要求前面的维数相同，此时numpy会复制（广播），将低维重复到高维去：`n个B(m)`，前面的乘以常数实际上就是将常数广播到每一维去"
   ]
  },
  {
   "cell_type": "code",
   "execution_count": null,
   "id": "dc8880b6",
   "metadata": {},
   "outputs": [],
   "source": [
    "X = np.array([[1,3,5],[2,4,6],[1,3,5],[2,4,6]])\n",
    "Y = np.array([1,3,5])\n",
    "print(X * Y)"
   ]
  },
  {
   "cell_type": "markdown",
   "id": "530b06a7",
   "metadata": {},
   "source": [
    "### 数组访问"
   ]
  },
  {
   "cell_type": "code",
   "execution_count": null,
   "id": "24d78ee6",
   "metadata": {},
   "outputs": [],
   "source": [
    "print('按数组下标构成的数组访问\\n',X[[1, 2, 3]])\n",
    "print('按切片的方式进行访问\\n',X[::-1])\n",
    "print('按True或False进行访问\\n',X[[False,True,False,True]])"
   ]
  },
  {
   "cell_type": "markdown",
   "id": "e965a7df",
   "metadata": {},
   "source": [
    "1.1.3.1 对数组用不等式会生成一个`bool`数组"
   ]
  },
  {
   "cell_type": "code",
   "execution_count": null,
   "id": "a93dcb79",
   "metadata": {},
   "outputs": [],
   "source": [
    "print(X > np.array([3,2,5]))"
   ]
  },
  {
   "cell_type": "markdown",
   "id": "b6c081cd",
   "metadata": {},
   "source": [
    "### numpy切片"
   ]
  },
  {
   "cell_type": "markdown",
   "id": "8342ab82",
   "metadata": {},
   "source": [
    "一维np.array，步长s>0或没有显示给出时，默认起始值为0，默认终止值为len；当步长s<0时，默认起始值为-1，默认终止值为-len-1；并且注意到所有的切片区间都是左闭右开。（正步长从0开始，负步长从-1开始）"
   ]
  },
  {
   "cell_type": "code",
   "execution_count": 16,
   "id": "665e5634",
   "metadata": {},
   "outputs": [
    {
     "data": {
      "text/plain": [
       "array([4, 5, 6, 7])"
      ]
     },
     "execution_count": 16,
     "metadata": {},
     "output_type": "execute_result"
    },
    {
     "data": {
      "text/plain": [
       "array([4, 5, 6, 7])"
      ]
     },
     "execution_count": 16,
     "metadata": {},
     "output_type": "execute_result"
    },
    {
     "data": {
      "text/plain": [
       "array([9, 8, 7, 6, 5, 4, 3, 2, 1])"
      ]
     },
     "execution_count": 16,
     "metadata": {},
     "output_type": "execute_result"
    },
    {
     "data": {
      "text/plain": [
       "array([1, 2, 3, 4, 5, 6, 7, 8, 9])"
      ]
     },
     "execution_count": 16,
     "metadata": {},
     "output_type": "execute_result"
    },
    {
     "data": {
      "text/plain": [
       "array([9, 7, 5, 3, 1])"
      ]
     },
     "execution_count": 16,
     "metadata": {},
     "output_type": "execute_result"
    }
   ],
   "source": [
    "n = np.array([1,2,3,4,5,6,7,8,9])\n",
    "n[3:7]\n",
    "n[3:-2]\n",
    "n[::-1]\n",
    "n[::1]\n",
    "n[::-2]"
   ]
  },
  {
   "cell_type": "markdown",
   "id": "426a3331",
   "metadata": {},
   "source": [
    "二维np.array，当参数没有冒号时，代表取值"
   ]
  },
  {
   "cell_type": "code",
   "execution_count": 18,
   "id": "0987aaa1",
   "metadata": {},
   "outputs": [
    {
     "data": {
      "text/plain": [
       "7"
      ]
     },
     "execution_count": 18,
     "metadata": {},
     "output_type": "execute_result"
    },
    {
     "data": {
      "text/plain": [
       "12"
      ]
     },
     "execution_count": 18,
     "metadata": {},
     "output_type": "execute_result"
    }
   ],
   "source": [
    "n = np.array([[1,2,3,4],[5,6,7,8],[9,10,11,12],[13,14,15,16]])\n",
    "n[1,2]\n",
    "n[2,3]"
   ]
  },
  {
   "cell_type": "markdown",
   "id": "f4f6d806",
   "metadata": {},
   "source": [
    "当参数有冒号时，左边冒号取行，右边冒号取列，只有一个冒号时取出的值会自动排列成一个list"
   ]
  },
  {
   "cell_type": "code",
   "execution_count": 24,
   "id": "4151a86f",
   "metadata": {},
   "outputs": [
    {
     "data": {
      "text/plain": [
       "array([ 7, 11])"
      ]
     },
     "execution_count": 24,
     "metadata": {},
     "output_type": "execute_result"
    },
    {
     "data": {
      "text/plain": [
       "array([15, 11])"
      ]
     },
     "execution_count": 24,
     "metadata": {},
     "output_type": "execute_result"
    },
    {
     "data": {
      "text/plain": [
       "array([16, 12])"
      ]
     },
     "execution_count": 24,
     "metadata": {},
     "output_type": "execute_result"
    }
   ],
   "source": [
    "#第一行和第二行的第二列元素\n",
    "n[1:3,2]\n",
    "#倒数第一行和倒数第二行的第二列元素\n",
    "n[-1:-3:-1,2]\n",
    "#倒数第一行和倒数第二行的最后一列元素\n",
    "n[-1:-3:-1,-1]"
   ]
  },
  {
   "cell_type": "markdown",
   "id": "6f0cc2e4",
   "metadata": {},
   "source": [
    "有两个冒号时，取出的值构成一个矩阵"
   ]
  },
  {
   "cell_type": "code",
   "execution_count": 28,
   "id": "68ed7ab9",
   "metadata": {},
   "outputs": [
    {
     "data": {
      "text/plain": [
       "array([[ 4],\n",
       "       [ 8],\n",
       "       [12],\n",
       "       [16]])"
      ]
     },
     "execution_count": 28,
     "metadata": {},
     "output_type": "execute_result"
    },
    {
     "data": {
      "text/plain": [
       "array([[ 1,  2,  3],\n",
       "       [ 5,  6,  7],\n",
       "       [ 9, 10, 11],\n",
       "       [13, 14, 15]])"
      ]
     },
     "execution_count": 28,
     "metadata": {},
     "output_type": "execute_result"
    }
   ],
   "source": [
    "#取最后一列\n",
    "n[:,-1:]\n",
    "#取第一列到最后一列\n",
    "n[:,:-1]"
   ]
  },
  {
   "cell_type": "markdown",
   "id": "c8b5e44c",
   "metadata": {},
   "source": [
    "### np.meshgrid"
   ]
  },
  {
   "cell_type": "markdown",
   "id": "6c0c3f7d",
   "metadata": {},
   "source": [
    "## Matplotlib"
   ]
  },
  {
   "cell_type": "markdown",
   "id": "ae867555",
   "metadata": {},
   "source": [
    "### 绘制简单图形"
   ]
  },
  {
   "cell_type": "code",
   "execution_count": null,
   "id": "f7258513",
   "metadata": {},
   "outputs": [],
   "source": [
    "import matplotlib.pyplot as plt\n",
    "x = np.arange(0, 6, 0.1) # 以0.1为单位，生成0到6的数据\n",
    "y = np.sin(x)\n",
    "plt.plot(x, y)\n",
    "plt.show()"
   ]
  },
  {
   "cell_type": "markdown",
   "id": "4d60d4e2",
   "metadata": {},
   "source": [
    "### 绘制三维图形"
   ]
  },
  {
   "cell_type": "markdown",
   "id": "a6590a85",
   "metadata": {},
   "source": [
    "# 数学基础"
   ]
  },
  {
   "cell_type": "markdown",
   "id": "cb5385fd",
   "metadata": {},
   "source": [
    "## 微积分"
   ]
  },
  {
   "cell_type": "markdown",
   "id": "47a391b4",
   "metadata": {},
   "source": [
    "### 全微分\n",
    "\n",
    "设$z=f(x,y)$，x和y分别有增量$\\Delta x,\\Delta y$,则$\\Delta z = f(x+\\Delta x,y+\\Delta y)-f(x,y)$，则可微分的定义为$\\Delta z$可以表示为：\n",
    "$$\\Delta z = A\\Delta x+ B\\Delta y+o (\\rho),\\ \\ \\rho = \\sqrt{\\Delta x^2 + \\Delta y^2} $$\n",
    "函数$f(x,y)$在$(x,y)$处的全微分为：$dz = Adx+Bdy$，若可微则一定在$(x,y)$出连续可偏导，且\n",
    "$$\\begin{cases}\n",
    "A = \\frac {\\partial z} {\\partial x} \\\\\n",
    "B = \\frac {\\partial z} {\\partial y}\n",
    "\\end{cases}$$\n",
    "可微条件等价于$z$在$(x,y)$处的$f_{x}'(x,y)$和$f_{y}'(x,y)$的偏导数连续\n",
    "\n",
    "\n",
    "$ \\qquad $例、求函数$z = x^2y^3+e^xsiny$的全微分\n",
    "\n",
    "$ \\qquad $解：\n",
    "$$\\frac {\\partial z} {\\partial x} = 2xy^3+e^xsiny,\\ \\frac {\\partial z} {\\partial y} = 3x^2y^2+e^xcosy$$\n",
    "$ \\qquad $有，\n",
    "$$dz = \\frac {\\partial z} {\\partial x}dx+\\frac {\\partial z} {\\partial y}dy=(2xy^3+e^xsiny)dx+(3x^2y^2+e^xcosy)dy$$ "
   ]
  },
  {
   "cell_type": "markdown",
   "id": "ff632a4e",
   "metadata": {},
   "source": [
    "### 方向导数\n",
    "直线$l$的方向单位向量为$(cos\\alpha, cos\\beta)$，称极限:$\\displaystyle\\lim_{t \\rightarrow 0^+}\\frac{f(x_0+tcos\\alpha ,y_0+tcos\\beta)-f(x_0,y_0)}{t}$为函数$f(x,y)$在点$P(x_0,y_0)$沿方向$l$的方向导数，记为$\\frac{\\partial f}{\\partial l}|_{(x_0,y_0)}$\n",
    "偏导数和方向导数的关系为：偏导数$f_x(x,y)$为方向向量$e1(1,0)$的方向导数，偏导数$f_y(x,y)$为方向向量$e2(0,1)$的方向导数，即偏导数存在，表明在$e1$和$e2$的方向导数存在\n",
    "定理：如果函数$f(x,y)$在$(x_0,y_0)$可微分，那该函数在该点沿任一方向的方向导数都存在，且：\n",
    "$$\\frac{\\partial f}{\\partial l}|_{(x_0,y_0)} = f_x(x_0,y_0)cos\\alpha+f_y(x_0,y_0)cos\\beta,\\quad e_l=(cos\\alpha,cos\\beta)$$"
   ]
  },
  {
   "cell_type": "markdown",
   "id": "526f8160",
   "metadata": {},
   "source": [
    "### 梯度\n",
    "    \n",
    "&emsp;函数$f(x,y)$在排名区域D内具有一阶连续偏导数，对每一点$P(x_0,y_0)\\in D$，向量$f_x(x_0,y_0)\\vec{i}+f_y(x_0,y_0)\\vec{j}$(即$(\\frac{\\partial f}{\\partial x},\\frac{\\partial f}{\\partial y})$)称为函数$f(x,y)$在点$P_0(x_0,y_0)$的梯度，记住$\\vec{grad}$或$\\nabla f(x_0,y_0)$，称$\\nabla = \\frac{\\partial}{\\partial x}i+\\frac{\\partial}{\\partial y}j$为向量微分算子/**Nabla**算子\n",
    "\n",
    "&emsp;结合上诉方向导数\n",
    "$$\\begin{aligned}\n",
    "\\frac{\\partial f}{\\partial l}|_{(x_0,y_0)} &= f_x(x_0,y_0)cos\\alpha+f_y(x_0,y_0)cos\\beta \\\\\n",
    "                             &= \\nabla f(x_0,y_0) \\cdot e_l \\\\\n",
    "                             &= \\vert \\nabla f(x_0,y_0)\\vert \\vert e_l\\vert cos\\theta \\\\\n",
    "                             &= \\vert \\nabla f(x_0,y_0)\\vert cos\\theta, \\qquad -1\\le cos\\theta \\le 1\n",
    "\\end{aligned}$$\n",
    "&emsp;其中$\\theta$为梯度向量和方向向量的夹角\n",
    "\n",
    "&emsp;上式表明，在$\\theta = 0$时，$\\frac{\\partial f}{\\partial l}|_{(x_0,y_0)}$取最大值，即为$\\vert \\nabla f(x_0,y_0)\\vert$，函数$f$增加最快；同理，当$\\theta = \\pi$时，$\\frac{\\partial f}{\\partial l}|_{(x_0,y_0)}$取最小值，即为$-\\vert \\nabla f(x_0,y_0)\\vert$，函数$f$减小最快。(补：$\\nabla f(x_0,y_0)$，即为$f(x,y)=C$在$(x_0,y_0)$处的法向量，tips：用隐函数求出$f(x,y)=C$的切向量即为$(-\\frac{\\partial f}{\\partial y},\\frac{\\partial f}{\\partial x})$)\n",
    "\n",
    "&emsp;例、求曲面$x^2+y^2+z = 9$在点$P_0(1,2,4)$的切平面和法线方程\n",
    "\n",
    "&emsp;解：\n",
    "\n",
    "&emsp;设$f(x,y,z)=x^2+y^2+z,f(x,y,z)$上一点$P_0(1,2,4)$处的一个法向量$\\vec{n}=\\nabla f(1,2,4)=(2x|_{x=1},2y|_{y=2},1)=(2,4,1)$；\n",
    "\n",
    "&emsp;故切平面方程为：$(2,4,1)\\cdot (x-1,y-2,z-4) = 0$即$2(x-1)+4(y-2)+(z-4)=0$\n",
    "\n",
    "&emsp;法线方程为：$(2,4,1)//(x-1.y-2.z-4)$即$\\frac{x-1}{2}=\\frac{y-2}{4}=\\frac{z-4}{1}$"
   ]
  },
  {
   "cell_type": "markdown",
   "id": "b76fb02e",
   "metadata": {},
   "source": [
    "## 线性代数"
   ]
  },
  {
   "cell_type": "markdown",
   "id": "6d7d2388",
   "metadata": {},
   "source": [
    "### 矩阵求导\n",
    "一个标量函数对行向量求导，其结果为行向量；一个标量函数对列向量求导，其结果为列向量，例如$f(x)=a_1x_1+a_2x_2+\\cdots+a_nx_n$，则$f$的全微分为：$df=\\frac{\\partial f}{\\partial x_1}dx_1+\\frac{\\partial f}{\\partial x_2}dx_2+\\cdots+\\frac{\\partial f}{\\partial x_n}dx_n=\\begin{pmatrix}\\frac{\\partial f}{\\partial x_1},\\frac{\\partial f}{\\partial x_2} , \\cdots , \\frac{\\partial f}{\\partial x_n}\\end{pmatrix}\\begin{pmatrix}dx_1 \\\\ dx_2 \\\\ \\vdots \\\\ dx_n\\end{pmatrix}$，此时有$\\frac{\\partial f}{\\partial \\pmb{x}}=\\begin{pmatrix}\\frac{\\partial f}{\\partial x_1},\\frac{\\partial f}{\\partial x_2} , \\cdots , \\frac{\\partial f}{\\partial x_n}\\end{pmatrix}^T$\n",
    "\n",
    "+ 结论(1)：\n",
    "\n",
    "$$\\frac{\\partial x^TA}{\\partial x}=\\frac{\\partial Ax}{\\partial x^T}=A \\tag{1}$$\n",
    "\n",
    "考虑$x^TA$的第一个元素(行)：$x_1a_{11}+x_2a_{21}+\\cdots+x_na_{n1}$，其对$\\pmb{x}$求导的结果即为$\\begin{pmatrix} a_{11} \\\\  a_{21} \\\\ \\vdots \\\\ a_{n1} \\end{pmatrix}$，并且由于此时是对列向量求导，构成矩阵$A$的第一列，故对行中的每个元素依次求导即构成矩阵A；\n",
    "\n",
    "而对于$Ax$的第一个元素(列)：$a_{11}x_1+a_{12}x_2+\\cdots+a_{1n}x_n$，其对$\\pmb{x}$求导的结果为$\\begin{pmatrix}a_{11},a_{12},\\cdots,a_{1n}\\end{pmatrix}$，并且由于此时是对行向量求导，构成矩阵$A$的第一行，故对列中的每个元素依次求导即构成矩阵A。\n",
    "$$\n",
    "\\frac{\\partial u}{\\partial x^T}=(\\frac{\\partial u^T}{\\partial x})^T \\tag{2}\n",
    "$$\n",
    "\n",
    "对于$u$为标量时，转置与否($u^T$)没有影响，右边底部为行向量，故结果为行，取转置；对于$u$为向量时，需要和$x$的形式相反，取转置，结果为一个矩阵，运用上式对$(1)$计算有：$\\frac{\\partial Ax}{\\partial x^T}=(\\frac{\\partial x^TA^T}{\\partial x})^T=(A^T)^T=A$，也可得到等式成立\n",
    "\n",
    "+ 结论(2):\n",
    "$$\n",
    "\\frac{\\partial x^TAx}{\\partial x}=(A+A^T)x \\\\\n",
    "A=1 \\rightarrow\\frac{\\partial x^Tx}{\\partial x}=2x\n",
    "$$"
   ]
  }
 ],
 "metadata": {
  "kernelspec": {
   "display_name": "Python 3 (ipykernel)",
   "language": "python",
   "name": "python3"
  },
  "language_info": {
   "codemirror_mode": {
    "name": "ipython",
    "version": 3
   },
   "file_extension": ".py",
   "mimetype": "text/x-python",
   "name": "python",
   "nbconvert_exporter": "python",
   "pygments_lexer": "ipython3",
   "version": "3.9.13"
  },
  "toc": {
   "base_numbering": 1,
   "nav_menu": {},
   "number_sections": true,
   "sideBar": true,
   "skip_h1_title": false,
   "title_cell": "Table of Contents",
   "title_sidebar": "Contents",
   "toc_cell": false,
   "toc_position": {
    "height": "calc(100% - 180px)",
    "left": "10px",
    "top": "150px",
    "width": "165px"
   },
   "toc_section_display": true,
   "toc_window_display": true
  },
  "varInspector": {
   "cols": {
    "lenName": 16,
    "lenType": 16,
    "lenVar": 40
   },
   "kernels_config": {
    "python": {
     "delete_cmd_postfix": "",
     "delete_cmd_prefix": "del ",
     "library": "var_list.py",
     "varRefreshCmd": "print(var_dic_list())"
    },
    "r": {
     "delete_cmd_postfix": ") ",
     "delete_cmd_prefix": "rm(",
     "library": "var_list.r",
     "varRefreshCmd": "cat(var_dic_list()) "
    }
   },
   "position": {
    "height": "112.85px",
    "left": "997.8px",
    "right": "20px",
    "top": "120px",
    "width": "325.4px"
   },
   "types_to_exclude": [
    "module",
    "function",
    "builtin_function_or_method",
    "instance",
    "_Feature"
   ],
   "window_display": false
  }
 },
 "nbformat": 4,
 "nbformat_minor": 5
}
