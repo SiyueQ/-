{
 "cells": [
  {
   "cell_type": "markdown",
   "id": "8d7274b7",
   "metadata": {},
   "source": [
    "# 动态规划\n",
    "在递归过程中，会产生大量参数相等的参数运算，例如斐波那契数列；\n",
    "\n",
    "我们可以使用一个字典，当某次递归的参数存在的时候，直接返回函数的执行结果，其中某个具体的参数称之为一个状态，通过字典查询的方式称为记忆化搜索；\n",
    "\n",
    "在大多数时候，我们可以使用数组——状态表的方式，通过已知的初始条件，一步步推导出状态表即状态转移方程，从而将递归过程变为迭代过程，此即为动态规划"
   ]
  },
  {
   "cell_type": "markdown",
   "id": "29f4a7d3",
   "metadata": {},
   "source": [
    "# 01背包问题"
   ]
  },
  {
   "cell_type": "markdown",
   "id": "c5761bb8",
   "metadata": {},
   "source": [
    "—— 给出背包容积$V$，每个物品的体积$v_i$和价值$c_i$，每个物品只能选一次，求出背包的最大价值\n",
    "\n",
    "由01背包问题给出动态规划的过程：\n",
    "\n",
    "①上述问题我们可以用递归的方式来处理：\n",
    "\n",
    "+ 定义函数MaxValue(i, j)，表示前i个物品中容量为j的背包能装下的最大值\n",
    "+ 则我们考察前i个物品是否选择第i个物品：\n",
    "  + 若选择第i个物品，则TempMaxValue = $v_i$ + MaxValue(i-1, j-$c_i$);\n",
    "  + 若不选择第i个物品，则TempMaxValue = MaxValue(i-1, j);\n",
    "  + 则MaxValue(i, j) = max( $v_i$ + MaxValue(i-1, j-$c_i$), MaxValue(i-1, j));\n",
    "+ 由此我们给出了MaxValue(i, j)的递归定义，并且它的初始状态为MaxValue(0, j(j>$c_0$)) = $v_0$\n",
    "\n"
   ]
  },
  {
   "cell_type": "code",
   "execution_count": 6,
   "id": "60906a1b",
   "metadata": {
    "ExecuteTime": {
     "end_time": "2023-04-19T06:43:33.293815Z",
     "start_time": "2023-04-19T06:43:27.934533Z"
    }
   },
   "outputs": [
    {
     "name": "stdout",
     "output_type": "stream",
     "text": [
      "4 5\n",
      "1 2\n",
      "2 4\n",
      "3 4\n",
      "4 5\n"
     ]
    },
    {
     "data": {
      "text/plain": [
       "[(1, 2), (2, 4), (3, 4), (4, 5)]"
      ]
     },
     "execution_count": 6,
     "metadata": {},
     "output_type": "execute_result"
    }
   ],
   "source": [
    "N, V = map(int, input().split())\n",
    "\n",
    "item_cost = [tuple(map(int, input().split())) for i in range(N)]\n",
    "list(item_cost)"
   ]
  },
  {
   "cell_type": "code",
   "execution_count": 8,
   "id": "97ffc93f",
   "metadata": {
    "ExecuteTime": {
     "end_time": "2023-04-19T06:53:51.821808Z",
     "start_time": "2023-04-19T06:53:51.809549Z"
    }
   },
   "outputs": [
    {
     "name": "stdout",
     "output_type": "stream",
     "text": [
      "8\n"
     ]
    }
   ],
   "source": [
    "def maxValue(i, v):\n",
    "    if v == 0: return 0\n",
    "    elif i == 0:\n",
    "        return (item_cost[0][0] <= v) * item_cost[0][1]\n",
    "    else:\n",
    "        temp = (item_cost[i][0] <= v) * item_cost[i][1]\n",
    "        return max(maxValue(i-1, v), maxValue(i-1, v-item_cost[i][0]) + temp if temp else 0)\n",
    "        \n",
    "print(maxValue(N - 1, V))"
   ]
  },
  {
   "cell_type": "markdown",
   "id": "54708366",
   "metadata": {},
   "source": []
  },
  {
   "cell_type": "code",
   "execution_count": 22,
   "id": "8c88a31d",
   "metadata": {
    "ExecuteTime": {
     "end_time": "2023-04-19T07:11:21.035788Z",
     "start_time": "2023-04-19T07:11:19.287498Z"
    }
   },
   "outputs": [
    {
     "name": "stdout",
     "output_type": "stream",
     "text": [
      "1 2 2 4 3 4 4 5\n"
     ]
    },
    {
     "data": {
      "text/plain": [
       "((1, 2), (2, 4), (3, 4), (4, 5))"
      ]
     },
     "execution_count": 22,
     "metadata": {},
     "output_type": "execute_result"
    }
   ],
   "source": [
    "x = map(int, input().split())\n",
    "item_cost = zip(x, x)\n",
    "tuple(item_cost)"
   ]
  }
 ],
 "metadata": {
  "kernelspec": {
   "display_name": "Python 3 (ipykernel)",
   "language": "python",
   "name": "python3"
  },
  "language_info": {
   "codemirror_mode": {
    "name": "ipython",
    "version": 3
   },
   "file_extension": ".py",
   "mimetype": "text/x-python",
   "name": "python",
   "nbconvert_exporter": "python",
   "pygments_lexer": "ipython3",
   "version": "3.9.13"
  },
  "toc": {
   "base_numbering": 1,
   "nav_menu": {},
   "number_sections": true,
   "sideBar": true,
   "skip_h1_title": false,
   "title_cell": "Table of Contents",
   "title_sidebar": "Contents",
   "toc_cell": false,
   "toc_position": {
    "height": "calc(100% - 180px)",
    "left": "10px",
    "top": "150px",
    "width": "209.062px"
   },
   "toc_section_display": true,
   "toc_window_display": false
  },
  "varInspector": {
   "cols": {
    "lenName": 16,
    "lenType": 16,
    "lenVar": 40
   },
   "kernels_config": {
    "python": {
     "delete_cmd_postfix": "",
     "delete_cmd_prefix": "del ",
     "library": "var_list.py",
     "varRefreshCmd": "print(var_dic_list())"
    },
    "r": {
     "delete_cmd_postfix": ") ",
     "delete_cmd_prefix": "rm(",
     "library": "var_list.r",
     "varRefreshCmd": "cat(var_dic_list()) "
    }
   },
   "types_to_exclude": [
    "module",
    "function",
    "builtin_function_or_method",
    "instance",
    "_Feature"
   ],
   "window_display": false
  }
 },
 "nbformat": 4,
 "nbformat_minor": 5
}
