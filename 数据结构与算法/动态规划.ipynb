{
 "cells": [
  {
   "cell_type": "markdown",
   "id": "8d7274b7",
   "metadata": {},
   "source": [
    "# 动态规划\n",
    "在递归过程中，会产生大量参数相等的参数运算，例如斐波那契数列；\n",
    "\n",
    "我们可以使用一个字典，当某次递归的参数存在的时候，直接返回函数的执行结果，其中某个具体的参数称之为一个状态，通过字典查询的方式称为记忆化搜索；\n",
    "\n",
    "在大多数时候，我们可以使用数组——状态表的方式，通过已知的初始条件，一步步推导出状态表即状态转移方程，从而将递归过程变为迭代过程，此即为动态规划"
   ]
  },
  {
   "cell_type": "markdown",
   "id": "29f4a7d3",
   "metadata": {},
   "source": [
    "# 01背包问题"
   ]
  },
  {
   "cell_type": "markdown",
   "id": "c5761bb8",
   "metadata": {},
   "source": [
    "—— 给出背包容积$V$，每个物品的体积$v_i$和价值$c_i$，每个物品只能选一次，求出背包的最大价值\n",
    "\n",
    "由01背包问题给出动态规划的过程：\n",
    "\n",
    "## 上述问题我们可以用递归的方式来处理：\n",
    "\n",
    "+ 定义函数MaxValue(i, j)，表示前i个物品中容量为j的背包能装下的最大值\n",
    "+ 则我们考察前i个物品是否选择第i个物品：\n",
    "  + 若选择第i个物品，则TempMaxValue = $v_i$ + MaxValue(i-1, j-$c_i$);\n",
    "  + 若不选择第i个物品，则TempMaxValue = MaxValue(i-1, j);\n",
    "  + 则MaxValue(i, j) = max( $v_i$ + MaxValue(i-1, j-$c_i$), MaxValue(i-1, j));\n",
    "+ 由此我们给出了MaxValue(i, j)的递归定义，并且它的初始状态为MaxValue(0, j(j>$c_0$)) = $v_0$\n",
    "\n"
   ]
  },
  {
   "cell_type": "code",
   "execution_count": 1,
   "id": "fc03bdfa",
   "metadata": {
    "ExecuteTime": {
     "end_time": "2023-04-19T07:34:49.395763Z",
     "start_time": "2023-04-19T07:33:46.039095Z"
    }
   },
   "outputs": [
    {
     "name": "stdout",
     "output_type": "stream",
     "text": [
      "20 100\n"
     ]
    }
   ],
   "source": [
    "N, V = map(int, input().split())"
   ]
  },
  {
   "cell_type": "code",
   "execution_count": null,
   "id": "60906a1b",
   "metadata": {
    "ExecuteTime": {
     "start_time": "2023-04-19T07:26:08.600Z"
    }
   },
   "outputs": [],
   "source": [
    "item_cost = [tuple(map(int, input().split())) for i in range(N)]\n",
    "list(item_cost)"
   ]
  },
  {
   "cell_type": "markdown",
   "id": "a63c52af",
   "metadata": {},
   "source": [
    "一点其它的输入方式"
   ]
  },
  {
   "cell_type": "code",
   "execution_count": 2,
   "id": "8c88a31d",
   "metadata": {
    "ExecuteTime": {
     "end_time": "2023-04-19T07:35:13.774127Z",
     "start_time": "2023-04-19T07:34:52.448417Z"
    }
   },
   "outputs": [
    {
     "name": "stdout",
     "output_type": "stream",
     "text": [
      "42 78 97 143 174 416 297 734 219 454 174 440 245 482 78 67 187 380 36 38 266 795 293 725 331 248 99 158 232 533 79 183 216 356 327 958 179 464 126 147\n"
     ]
    },
    {
     "data": {
      "text/plain": [
       "((42, 78),\n",
       " (97, 143),\n",
       " (174, 416),\n",
       " (297, 734),\n",
       " (219, 454),\n",
       " (174, 440),\n",
       " (245, 482),\n",
       " (78, 67),\n",
       " (187, 380),\n",
       " (36, 38),\n",
       " (266, 795),\n",
       " (293, 725),\n",
       " (331, 248),\n",
       " (99, 158),\n",
       " (232, 533),\n",
       " (79, 183),\n",
       " (216, 356),\n",
       " (327, 958),\n",
       " (179, 464),\n",
       " (126, 147))"
      ]
     },
     "execution_count": 2,
     "metadata": {},
     "output_type": "execute_result"
    }
   ],
   "source": [
    "x = map(int, input().split())\n",
    "item_cost = tuple(zip(x, x))\n",
    "item_cost"
   ]
  },
  {
   "cell_type": "code",
   "execution_count": 11,
   "id": "97ffc93f",
   "metadata": {
    "ExecuteTime": {
     "end_time": "2023-04-19T07:40:53.774855Z",
     "start_time": "2023-04-19T07:40:53.756774Z"
    }
   },
   "outputs": [
    {
     "name": "stdout",
     "output_type": "stream",
     "text": [
      "183\n"
     ]
    }
   ],
   "source": [
    "def maxValue(i, v):\n",
    "    if v == 0: return 0\n",
    "    elif i == 0:\n",
    "        return (item_cost[0][0] <= v) * item_cost[0][1]\n",
    "    else:\n",
    "        temp = (item_cost[i][0] <= v) * item_cost[i][1]\n",
    "        return max(maxValue(i-1, v), maxValue(i-1, v-item_cost[i][0]) + temp if temp else 0)\n",
    "        \n",
    "print(maxValue(N - 1, V))"
   ]
  },
  {
   "cell_type": "markdown",
   "id": "54708366",
   "metadata": {},
   "source": [
    "## 记忆化搜索"
   ]
  },
  {
   "cell_type": "markdown",
   "id": "5c06bc2c",
   "metadata": {},
   "source": [
    "可以预见的是，上述递归过程中，有大量的重复运算，我们可以用一个数组保存运算中的中间结果，当运算的参数对应数组下标中有该结果则直接取用不再递归"
   ]
  },
  {
   "cell_type": "code",
   "execution_count": 14,
   "id": "17ab540f",
   "metadata": {
    "ExecuteTime": {
     "end_time": "2023-04-19T07:42:03.060008Z",
     "start_time": "2023-04-19T07:42:03.055006Z"
    }
   },
   "outputs": [
    {
     "name": "stdout",
     "output_type": "stream",
     "text": [
      "183\n"
     ]
    }
   ],
   "source": [
    "Value = [[-1 for i in range(V + 1)] for i in range(N)]\n",
    "\n",
    "def maxValue(i, v):\n",
    "    res = Value[i][v]\n",
    "    if res != -1: \n",
    "        return res\n",
    "    elif v == 0: \n",
    "        res = 0\n",
    "    elif i == 0:\n",
    "        res = (item_cost[0][0] <= v) * item_cost[0][1]\n",
    "    else:\n",
    "        temp = (item_cost[i][0] <= v) * item_cost[i][1]\n",
    "        res = max(maxValue(i-1, v), maxValue(i-1, v-item_cost[i][0]) + temp if temp else 0)\n",
    "    Value[i][v] = res\n",
    "    return res\n",
    "\n",
    "print(maxValue(N - 1, V))"
   ]
  }
 ],
 "metadata": {
  "kernelspec": {
   "display_name": "Python 3 (ipykernel)",
   "language": "python",
   "name": "python3"
  },
  "language_info": {
   "codemirror_mode": {
    "name": "ipython",
    "version": 3
   },
   "file_extension": ".py",
   "mimetype": "text/x-python",
   "name": "python",
   "nbconvert_exporter": "python",
   "pygments_lexer": "ipython3",
   "version": "3.9.13"
  },
  "toc": {
   "base_numbering": 1,
   "nav_menu": {},
   "number_sections": true,
   "sideBar": true,
   "skip_h1_title": false,
   "title_cell": "Table of Contents",
   "title_sidebar": "Contents",
   "toc_cell": false,
   "toc_position": {
    "height": "calc(100% - 180px)",
    "left": "10px",
    "top": "150px",
    "width": "209.062px"
   },
   "toc_section_display": true,
   "toc_window_display": false
  },
  "varInspector": {
   "cols": {
    "lenName": 16,
    "lenType": 16,
    "lenVar": 40
   },
   "kernels_config": {
    "python": {
     "delete_cmd_postfix": "",
     "delete_cmd_prefix": "del ",
     "library": "var_list.py",
     "varRefreshCmd": "print(var_dic_list())"
    },
    "r": {
     "delete_cmd_postfix": ") ",
     "delete_cmd_prefix": "rm(",
     "library": "var_list.r",
     "varRefreshCmd": "cat(var_dic_list()) "
    }
   },
   "types_to_exclude": [
    "module",
    "function",
    "builtin_function_or_method",
    "instance",
    "_Feature"
   ],
   "window_display": false
  }
 },
 "nbformat": 4,
 "nbformat_minor": 5
}
